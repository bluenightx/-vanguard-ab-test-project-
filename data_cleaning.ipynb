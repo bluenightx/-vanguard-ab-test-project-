{
 "cells": [
  {
   "cell_type": "code",
   "execution_count": 4,
   "id": "ed555de5",
   "metadata": {},
   "outputs": [
    {
     "name": "stdout",
     "output_type": "stream",
     "text": [
      " Conversion complete. Files saved in the same folder as this notebook.\n"
     ]
    }
   ],
   "source": [
    "import os\n",
    "import csv\n",
    "import pandas as pd\n",
    "# Get the current working directory (where your .ipynb file is saved)\n",
    "folder_path = os.getcwd()\n",
    "\n",
    "# Define the delimiter used in the .txt files (can be adjusted if needed)\n",
    "actual_delimiter = ','  # Adjust if needed\n",
    "\n",
    "# Loop through all files in the current folder\n",
    "for filename in os.listdir(folder_path):\n",
    "    # Check if the file has a .txt extension\n",
    "    if filename.endswith('.txt'):\n",
    "        # Construct the full path to the .txt file\n",
    "        txt_file_path = os.path.join(folder_path, filename)\n",
    "        \n",
    "        # Create the corresponding .csv file path\n",
    "        csv_file_path = os.path.join(folder_path, filename.replace('.txt', '.csv'))\n",
    "\n",
    "        # Open both the input .txt file and the output .csv file\n",
    "        with open(txt_file_path, 'r', encoding='utf-8') as txt_file, open(csv_file_path, 'w', newline='', encoding='utf-8') as csv_file:\n",
    "            # Create a CSV reader to parse lines using the specified delimiter\n",
    "            reader = csv.reader(txt_file, delimiter=actual_delimiter)\n",
    "            \n",
    "            # Create a CSV writer to write rows into the .csv file\n",
    "            writer = csv.writer(csv_file)\n",
    "            \n",
    "            # Copy each row from the .txt file into the .csv file\n",
    "            for row in reader:\n",
    "                writer.writerow(row)\n",
    "\n",
    "# Notify that the conversion is complete\n",
    "print(\" Conversion complete. Files saved in the same folder as this notebook.\")\n"
   ]
  },
  {
   "cell_type": "code",
   "execution_count": 5,
   "id": "b242a6af",
   "metadata": {},
   "outputs": [
    {
     "name": "stdout",
     "output_type": "stream",
     "text": [
      " Merging complete and saved as web.csv\n"
     ]
    }
   ],
   "source": [
    "\n",
    "# Load datasets\n",
    "demo = pd.read_csv('df_final_demo.csv')\n",
    "experiment = pd.read_csv('df_final_experiment_clients.csv')\n",
    "web1 = pd.read_csv('df_final_web_data_pt_1.csv')\n",
    "web2 = pd.read_csv('df_final_web_data_pt_2.csv')\n",
    "\n",
    "#Standardize formatting:\n",
    "datasets = [demo, experiment, web1, web2]\n",
    "for df in datasets:\n",
    "    df.columns = df.columns.str.lower().str.strip()\n",
    "\n",
    "# Merge web1 and web2\n",
    "web = pd.concat([web1, web2], ignore_index=True)\n",
    "web.drop_duplicates(inplace=True)\n",
    "\n",
    "web.to_csv(\"web.csv\", index=False)\n",
    "print(\" Merging complete and saved as web.csv\")\n",
    "\n"
   ]
  },
  {
   "cell_type": "code",
   "execution_count": 6,
   "id": "1455341e",
   "metadata": {},
   "outputs": [
    {
     "name": "stdout",
     "output_type": "stream",
     "text": [
      " \n",
      " demo: \n",
      "    client_id  clnt_tenure_yr  clnt_tenure_mnth  clnt_age gendr  num_accts  \\\n",
      "0     836976             6.0              73.0      60.5     U        2.0   \n",
      "1    2304905             7.0              94.0      58.0     U        2.0   \n",
      "2    1439522             5.0              64.0      32.0     U        2.0   \n",
      "3    1562045            16.0             198.0      49.0     M        2.0   \n",
      "4    5126305            12.0             145.0      33.0     F        2.0   \n",
      "\n",
      "         bal  calls_6_mnth  logons_6_mnth  \n",
      "0   45105.30           6.0            9.0  \n",
      "1  110860.30           6.0            9.0  \n",
      "2   52467.79           6.0            9.0  \n",
      "3   67454.65           3.0            6.0  \n",
      "4  103671.75           0.0            3.0  \n",
      " \n",
      " experiment: \n",
      "    client_id variation\n",
      "0    9988021      Test\n",
      "1    8320017      Test\n",
      "2    4033851   Control\n",
      "3    1982004      Test\n",
      "4    9294070   Control\n",
      " \n",
      " web: \n",
      "    client_id            visitor_id                      visit_id process_step  \\\n",
      "0    9988021  580560515_7732621733  781255054_21935453173_531117       step_3   \n",
      "1    9988021  580560515_7732621733  781255054_21935453173_531117       step_2   \n",
      "2    9988021  580560515_7732621733  781255054_21935453173_531117       step_3   \n",
      "3    9988021  580560515_7732621733  781255054_21935453173_531117       step_2   \n",
      "4    9988021  580560515_7732621733  781255054_21935453173_531117       step_3   \n",
      "\n",
      "             date_time  \n",
      "0  2017-04-17 15:27:07  \n",
      "1  2017-04-17 15:26:51  \n",
      "2  2017-04-17 15:19:22  \n",
      "3  2017-04-17 15:19:13  \n",
      "4  2017-04-17 15:18:04  \n",
      " \n",
      " demo shape: \n",
      " (70609, 9)\n",
      " \n",
      " experiment shape: \n",
      " (70609, 2)\n",
      " \n",
      " web shape: \n",
      " (744641, 5)\n"
     ]
    }
   ],
   "source": [
    "print(f' \\n demo: \\n {demo.head()}')\n",
    "print(f' \\n experiment: \\n {experiment.head()}')\n",
    "print(f' \\n web: \\n {web.head()}')\n",
    "print(f' \\n demo shape: \\n {demo.shape}')\n",
    "print(f' \\n experiment shape: \\n {experiment.shape}')\n",
    "print(f' \\n web shape: \\n {web.shape}')"
   ]
  },
  {
   "cell_type": "code",
   "execution_count": 7,
   "id": "ec7b324f",
   "metadata": {},
   "outputs": [],
   "source": [
    "#Standardize column names\n",
    "\n",
    "def standardize_columns(df):\n",
    "    df.columns = (\n",
    "        df.columns\n",
    "        .str.strip()                        # Remove leading/trailing spaces\n",
    "        .str.lower()                        # Convert to lowercase\n",
    "        .str.replace(' ', '_', regex=False) # Replace spaces with underscores\n",
    "        .str.replace(r'\\W', '', regex=True) # Remove special characters\n",
    "    )\n",
    "    return df\n",
    "\n",
    "\n",
    "# Apply to all three DataFrames\n",
    "demo = standardize_columns(demo)\n",
    "experiment = standardize_columns(experiment)\n",
    "web = standardize_columns(web)\n",
    "\n",
    "\n",
    "# Define the rename mappings\n",
    "demo = demo.rename(columns=        {'clnt_tenure_yr': 'tenure_year',\n",
    "                                   'clnt_tenure_mnth': 'tenure_month', \n",
    "                                   'clnt_age': 'age',\n",
    "                                   'gendr': 'gender', \n",
    "                                   'num_accts': 'num_accounts', \n",
    "                                   'bal':'balance', \n",
    "                                   'calls_6_mnth':'calls_6_months',\n",
    "                                   'logons_6_mnth':'logons_6_months'})\n",
    "\n"
   ]
  },
  {
   "cell_type": "code",
   "execution_count": 8,
   "id": "112e11b3",
   "metadata": {},
   "outputs": [
    {
     "name": "stdout",
     "output_type": "stream",
     "text": [
      "\n",
      "DEMO INFO:\n",
      "<class 'pandas.core.frame.DataFrame'>\n",
      "RangeIndex: 70609 entries, 0 to 70608\n",
      "Data columns (total 9 columns):\n",
      " #   Column           Non-Null Count  Dtype  \n",
      "---  ------           --------------  -----  \n",
      " 0   client_id        70609 non-null  int64  \n",
      " 1   tenure_year      70595 non-null  float64\n",
      " 2   tenure_month     70595 non-null  float64\n",
      " 3   age              70594 non-null  float64\n",
      " 4   gender           70595 non-null  object \n",
      " 5   num_accounts     70595 non-null  float64\n",
      " 6   balance          70595 non-null  float64\n",
      " 7   calls_6_months   70595 non-null  float64\n",
      " 8   logons_6_months  70595 non-null  float64\n",
      "dtypes: float64(7), int64(1), object(1)\n",
      "memory usage: 4.8+ MB\n",
      "None\n",
      "           client_id   tenure_year  tenure_month           age gender  \\\n",
      "count   7.060900e+04  70595.000000  70595.000000  70594.000000  70595   \n",
      "unique           NaN           NaN           NaN           NaN      4   \n",
      "top              NaN           NaN           NaN           NaN      U   \n",
      "freq             NaN           NaN           NaN           NaN  24122   \n",
      "mean    5.004992e+06     12.052950    150.659367     46.442240    NaN   \n",
      "std     2.877278e+06      6.871819     82.089854     15.591273    NaN   \n",
      "min     1.690000e+02      2.000000     33.000000     13.500000    NaN   \n",
      "25%     2.519329e+06      6.000000     82.000000     32.500000    NaN   \n",
      "50%     5.016978e+06     11.000000    136.000000     47.000000    NaN   \n",
      "75%     7.483085e+06     16.000000    192.000000     59.000000    NaN   \n",
      "max     9.999839e+06     62.000000    749.000000     96.000000    NaN   \n",
      "\n",
      "        num_accounts       balance  calls_6_months  logons_6_months  \n",
      "count   70595.000000  7.059500e+04    70595.000000     70595.000000  \n",
      "unique           NaN           NaN             NaN              NaN  \n",
      "top              NaN           NaN             NaN              NaN  \n",
      "freq             NaN           NaN             NaN              NaN  \n",
      "mean        2.255528  1.474452e+05        3.382478         5.566740  \n",
      "std         0.534997  3.015087e+05        2.236580         2.353286  \n",
      "min         1.000000  1.378942e+04        0.000000         1.000000  \n",
      "25%         2.000000  3.734683e+04        1.000000         4.000000  \n",
      "50%         2.000000  6.333290e+04        3.000000         5.000000  \n",
      "75%         2.000000  1.375449e+05        6.000000         7.000000  \n",
      "max         8.000000  1.632004e+07        7.000000         9.000000  \n",
      "\n",
      "EXPERIMENT INFO:\n",
      "<class 'pandas.core.frame.DataFrame'>\n",
      "RangeIndex: 70609 entries, 0 to 70608\n",
      "Data columns (total 2 columns):\n",
      " #   Column     Non-Null Count  Dtype \n",
      "---  ------     --------------  ----- \n",
      " 0   client_id  70609 non-null  int64 \n",
      " 1   variation  50500 non-null  object\n",
      "dtypes: int64(1), object(1)\n",
      "memory usage: 1.1+ MB\n",
      "None\n",
      "           client_id variation\n",
      "count   7.060900e+04     50500\n",
      "unique           NaN         2\n",
      "top              NaN      Test\n",
      "freq             NaN     26968\n",
      "mean    5.004992e+06       NaN\n",
      "std     2.877278e+06       NaN\n",
      "min     1.690000e+02       NaN\n",
      "25%     2.519329e+06       NaN\n",
      "50%     5.016978e+06       NaN\n",
      "75%     7.483085e+06       NaN\n",
      "max     9.999839e+06       NaN\n",
      "\n",
      "WEB INFO:\n",
      "<class 'pandas.core.frame.DataFrame'>\n",
      "Index: 744641 entries, 0 to 755404\n",
      "Data columns (total 5 columns):\n",
      " #   Column        Non-Null Count   Dtype \n",
      "---  ------        --------------   ----- \n",
      " 0   client_id     744641 non-null  int64 \n",
      " 1   visitor_id    744641 non-null  object\n",
      " 2   visit_id      744641 non-null  object\n",
      " 3   process_step  744641 non-null  object\n",
      " 4   date_time     744641 non-null  object\n",
      "dtypes: int64(1), object(4)\n",
      "memory usage: 34.1+ MB\n",
      "None\n",
      "           client_id             visitor_id                     visit_id  \\\n",
      "count   7.446410e+05                 744641                       744641   \n",
      "unique           NaN                 130236                       158095   \n",
      "top              NaN  699275239_82397698587  712824876_8175482950_365042   \n",
      "freq             NaN                     74                           61   \n",
      "mean    5.014059e+06                    NaN                          NaN   \n",
      "std     2.879588e+06                    NaN                          NaN   \n",
      "min     1.690000e+02                    NaN                          NaN   \n",
      "25%     2.521851e+06                    NaN                          NaN   \n",
      "50%     5.031965e+06                    NaN                          NaN   \n",
      "75%     7.497388e+06                    NaN                          NaN   \n",
      "max     9.999875e+06                    NaN                          NaN   \n",
      "\n",
      "       process_step            date_time  \n",
      "count        744641               744641  \n",
      "unique            5               629363  \n",
      "top           start  2017-03-29 11:24:54  \n",
      "freq         234999                   14  \n",
      "mean            NaN                  NaN  \n",
      "std             NaN                  NaN  \n",
      "min             NaN                  NaN  \n",
      "25%             NaN                  NaN  \n",
      "50%             NaN                  NaN  \n",
      "75%             NaN                  NaN  \n",
      "max             NaN                  NaN  \n"
     ]
    }
   ],
   "source": [
    "# Quick structure check\n",
    "for name, df in zip(['demo', 'experiment', 'web'], [demo, experiment, web]):\n",
    "    print(f'\\n{name.upper()} INFO:')\n",
    "    print(df.info())\n",
    "    print(df.describe(include=\"all\"))\n"
   ]
  },
  {
   "cell_type": "code",
   "execution_count": 9,
   "id": "0caf2959",
   "metadata": {},
   "outputs": [
    {
     "name": "stdout",
     "output_type": "stream",
     "text": [
      "\n",
      "--- Unique values in demo ---\n",
      "\n",
      "client_id - Unique values:\n",
      "[ 836976 2304905 1439522 ...  333913 1573142 5602139]\n",
      "\n",
      "tenure_year - Unique values:\n",
      "[ 6.  7.  5. 16. 12. 30. 15.  8.  4.  3. 10. 11. 13. 14. 19. 18. 25. 23.\n",
      " 21. 17.  9. 27. 24. 20. 28. 22. 29. 46. 26. 32. 33. 35.  2. 38. 31. 48.\n",
      " 34. 36. 51. nan 47. 49. 37. 39. 40. 55. 42. 44. 43. 50. 54. 41. 45. 52.\n",
      " 62.]\n",
      "\n",
      "tenure_month - Unique values:\n",
      "[ 73.  94.  64. 198. 145.  71.  66. 361. 369. 189. 100.  99.  67. 193.\n",
      "  58.  47. 122. 136. 101. 103.  70. 152. 160.  80.  88.  86.  65.  68.\n",
      "  93.  85. 168. 142. 228. 223. 305. 286. 285. 280. 254. 253. 278. 221.\n",
      " 216. 212. 204. 260. 116. 130. 177. 159. 190.  89.  91. 129. 329.  92.\n",
      "  82. 169. 239.  69. 178.  95.  63. 187. 288. 261. 251. 250.  56.  60.\n",
      " 123. 175. 188.  59. 336. 149. 156. 330. 155. 167.  96. 242. 163.  81.\n",
      " 182. 134. 113. 172. 120. 105. 271. 244. 200. 157.  78. 151. 121. 184.\n",
      " 335. 357. 111. 185.  76. 148.  97.  83. 347. 324. 162. 194.  74. 186.\n",
      " 300. 289. 295. 282. 270. 246. 229. 206. 109. 343. 176. 144. 161. 179.\n",
      " 106. 154. 119.  75. 166. 143. 202. 326. 298. 290. 279. 252.  57. 334.\n",
      " 150.  46. 114. 174.  72. 107. 164. 131. 554. 140. 118. 292. 273. 257.\n",
      " 225. 128. 135. 258. 126. 359. 210. 263. 262. 255. 214. 310. 141. 319.\n",
      " 395. 108. 181. 173.  55. 203. 297. 213. 183. 115. 117. 299. 287. 269.\n",
      " 222. 195. 127. 245. 110. 102.  54. 277. 276. 274. 249. 147. 153.  84.\n",
      " 132. 312.  79. 146. 346. 348. 332. 170. 267. 191.  38. 205. 265. 264.\n",
      " 234. 233. 208.  53. 399. 197. 139.  61. 124. 165. 236. 219. 215. 226.\n",
      " 388. 421. 192. 306. 266. 240. 231. 180. 296.  87. 158. 227. 196. 199.\n",
      "  34. 397.  90. 349.  42. 424. 337. 207. 104. 338. 137. 201.  62. 294.\n",
      " 230. 220. 209.  49. 321. 345. 138.  33. 238. 459. 171. 355.  98. 237.\n",
      " 235. 370. 352.  48. 303. 259. 218. 322. 428. 247. 241. 341. 302. 217.\n",
      " 360. 385. 383. 576. 293. 243. 350. 340.  36. 256. 323. 354. 232. 318.\n",
      " 313.  51.  77. 430. 420. 268. 275. 317. 339.  35. 327. 407. 301. 133.\n",
      " 211. 125. 112.  43. 281.  45. 316.  40. 325. 291. 368. 384. 248. 382.\n",
      " 314. 408. 284. 283. 376. 304. 309. 356. 394. 386. 311. 419. 411. 406.\n",
      " 409. 464. 224. 333. 371. 358. 401. 320. 413. 375. 422. 272.  52. 342.\n",
      " 307. 328. 381. 434. 353. 612. 400.  50. 344. 367. 415. 364. 374. 416.\n",
      " 391. 431.  nan 423. 396. 315. 378.  44. 379. 569. 596. 393. 392.  41.\n",
      " 362. 451. 439. 331. 468. 418. 442. 389.  37. 481. 366. 351. 390. 402.\n",
      " 463.  39. 432. 403. 417. 461. 380. 482. 460. 372. 308. 373. 465. 404.\n",
      " 412. 387. 561. 669. 429. 585. 414. 365. 427. 504. 433. 444. 456. 410.\n",
      " 441. 512. 445. 539. 516. 363. 454. 589. 425. 377. 457. 443. 398. 484.\n",
      " 473. 507. 475. 449. 668. 602. 405. 446. 608. 447. 440. 453. 613. 462.\n",
      " 483. 479. 562. 485. 655. 448. 472. 564. 526. 532. 511. 492. 426. 593.\n",
      " 455. 450. 581. 550. 624. 571. 563. 469. 661. 436. 610. 586. 535. 603.\n",
      " 631. 509. 614. 466. 667. 749. 480.]\n",
      "\n",
      "age - Unique values:\n",
      "[60.5 58.  32.  49.  33.  30.5 58.5 57.5 67.5 54.5 34.5 51.5 62.5 36.\n",
      " 74.  32.5 31.  25.5 42.5 42.  30.  55.  38.  68.5 52.5 54.  63.  48.\n",
      " 66.5 68.  65.  51.  46.  63.5 23.  26.5 56.5 76.5 27.5 39.5 25.  27.\n",
      " 60.  66.  39.  56.  40.  52.  31.5 43.5 35.  19.  64.5 64.  22.5 33.5\n",
      " 36.5 61.  40.5 72.  44.5 28.5 59.5 45.  18.  78.  50.5 29.  37.5 57.\n",
      " 70.  74.5 22.  50.  53.  62.  65.5 29.5 28.  69.5 35.5 71.5 34.  38.5\n",
      " 69.  43.  83.5 21.5 47.  61.5 73.5 71.  59.  21.  44.  83.  47.5 72.5\n",
      " 76.  78.5 55.5 67.  41.5 20.5 75.  24.  79.  26.  41.  23.5 49.5 46.5\n",
      " 45.5 48.5 24.5 75.5 80.  73.  87.  19.5 53.5 18.5 70.5 80.5 86.  37.\n",
      " 85.  17.5 82.  20.  77.5 77.  79.5 88.5 96.  81.  81.5 88.  84.   nan\n",
      " 94.5 89.  92.  82.5 91.5 85.5 95.5 84.5 90.  89.5 93.  90.5 87.5 93.5\n",
      " 86.5 91.  17.  94.  92.5 15.5 16.  16.5 14.5 15.  14.  13.5]\n",
      "\n",
      "gender - Unique values:\n",
      "['U' 'M' 'F' nan 'X']\n",
      "\n",
      "num_accounts - Unique values:\n",
      "[ 2.  5.  3.  4.  6.  7. nan  1.  8.]\n",
      "\n",
      "balance - Unique values:\n",
      "[ 45105.3  110860.3   52467.79 ...  40745.   475114.69 157498.73]\n",
      "\n",
      "calls_6_months - Unique values:\n",
      "[ 6.  3.  0.  2.  1.  5.  4. nan  7.]\n",
      "\n",
      "logons_6_months - Unique values:\n",
      "[ 9.  6.  3.  5.  4.  8.  7. nan  1.  2.]\n",
      "\n",
      "--- Unique values in experiment ---\n",
      "\n",
      "client_id - Unique values:\n",
      "[9988021 8320017 4033851 ...  266828 1266421 9895983]\n",
      "\n",
      "variation - Unique values:\n",
      "['Test' 'Control' nan]\n",
      "\n",
      "--- Unique values in web ---\n",
      "\n",
      "client_id - Unique values:\n",
      "[9988021 8320017 4033851 ... 9895983 9668240  674799]\n",
      "\n",
      "visitor_id - Unique values:\n",
      "['580560515_7732621733' '39393514_33118319366' '762728880_76361333336' ...\n",
      " '473024645_56027518531' '388766751_9038881013' '947159805_81558194550']\n",
      "\n",
      "visit_id - Unique values:\n",
      "['781255054_21935453173_531117' '960651974_70596002104_312201'\n",
      " '949661017_22392791362_127391' ... '172141804_88150434297_748843'\n",
      " '922267647_3096648104_968866' '86152093_47511127657_716022']\n",
      "\n",
      "process_step - Unique values:\n",
      "['step_3' 'step_2' 'step_1' 'start' 'confirm']\n",
      "\n",
      "date_time - Unique values:\n",
      "['2017-04-17 15:27:07' '2017-04-17 15:26:51' '2017-04-17 15:19:22' ...\n",
      " '2017-05-24 18:48:02' '2017-05-24 18:44:51' '2017-06-03 12:17:09']\n"
     ]
    }
   ],
   "source": [
    "#Check unique values in each DataFrame\n",
    "\n",
    "# List of the dataframes\n",
    "dataframes = {'demo': demo, 'experiment': experiment, 'web': web}\n",
    "# Loop through each DataFrame and its columns\n",
    "for name, df in dataframes.items():\n",
    "    print(f\"\\n--- Unique values in {name} ---\")\n",
    "    for col in df.columns:\n",
    "        print(f\"\\n{col} - Unique values:\")\n",
    "        print(df[col].unique())"
   ]
  },
  {
   "cell_type": "code",
   "execution_count": 10,
   "id": "a7c4c0fb",
   "metadata": {},
   "outputs": [
    {
     "name": "stdout",
     "output_type": "stream",
     "text": [
      "demo null counts:\n",
      " client_id           0\n",
      "tenure_year        14\n",
      "tenure_month       14\n",
      "age                15\n",
      "gender             14\n",
      "num_accounts       14\n",
      "balance            14\n",
      "calls_6_months     14\n",
      "logons_6_months    14\n",
      "dtype: int64 \n",
      "\n",
      "experiment null counts:\n",
      " client_id        0\n",
      "variation    20109\n",
      "dtype: int64 \n",
      "\n",
      "web null counts:\n",
      " client_id       0\n",
      "visitor_id      0\n",
      "visit_id        0\n",
      "process_step    0\n",
      "date_time       0\n",
      "dtype: int64 \n",
      "\n"
     ]
    }
   ],
   "source": [
    "# Null values check\n",
    "print(\"demo null counts:\\n\", demo.isna().sum(), \"\\n\")\n",
    "print(\"experiment null counts:\\n\", experiment.isna().sum(), \"\\n\")\n",
    "print(\"web null counts:\\n\", web.isna().sum(), \"\\n\")"
   ]
  },
  {
   "cell_type": "code",
   "execution_count": 11,
   "id": "137c605b",
   "metadata": {},
   "outputs": [],
   "source": [
    "#Convert columns to appropriate dtypes\n",
    "\n",
    "cols_to_convert = ['num_accounts','calls_6_months', 'logons_6_months']  # replace with your actual column names\n",
    "\n",
    "demo[cols_to_convert] = demo[cols_to_convert].astype('Int64')  # allows NaNs\n"
   ]
  },
  {
   "cell_type": "code",
   "execution_count": 12,
   "id": "2af10110",
   "metadata": {},
   "outputs": [
    {
     "name": "stdout",
     "output_type": "stream",
     "text": [
      "0\n",
      "0\n",
      "0\n"
     ]
    }
   ],
   "source": [
    "# Duplicates check\n",
    "print(demo.duplicated().sum())\n",
    "print(web.duplicated().sum())\n",
    "print(experiment.duplicated().sum())"
   ]
  },
  {
   "cell_type": "code",
   "execution_count": 13,
   "id": "38ebee4c",
   "metadata": {},
   "outputs": [
    {
     "name": "stdout",
     "output_type": "stream",
     "text": [
      "demo:\n",
      "client_id            int64\n",
      "tenure_year        float64\n",
      "tenure_month       float64\n",
      "age                float64\n",
      "gender              object\n",
      "num_accounts         Int64\n",
      "balance            float64\n",
      "calls_6_months       Int64\n",
      "logons_6_months      Int64\n",
      "dtype: object\n",
      "\n",
      "experiment:\n",
      "client_id     int64\n",
      "variation    object\n",
      "dtype: object\n",
      "\n",
      "web:\n",
      "client_id        int64\n",
      "visitor_id      object\n",
      "visit_id        object\n",
      "process_step    object\n",
      "date_time       object\n",
      "dtype: object\n"
     ]
    }
   ],
   "source": [
    "print(\"demo:\")\n",
    "print(demo.dtypes)\n",
    "print(\"\\nexperiment:\")\n",
    "print(experiment.dtypes)\n",
    "print(\"\\nweb:\")\n",
    "print(web.dtypes)"
   ]
  },
  {
   "cell_type": "code",
   "execution_count": 14,
   "id": "eb1ca968",
   "metadata": {},
   "outputs": [
    {
     "data": {
      "text/plain": [
       "0        U\n",
       "1        U\n",
       "2        U\n",
       "3        M\n",
       "4        F\n",
       "        ..\n",
       "70604    U\n",
       "70605    M\n",
       "70606    F\n",
       "70607    M\n",
       "70608    F\n",
       "Name: gender, Length: 70609, dtype: object"
      ]
     },
     "execution_count": 14,
     "metadata": {},
     "output_type": "execute_result"
    }
   ],
   "source": [
    "demo['gender']"
   ]
  },
  {
   "cell_type": "code",
   "execution_count": 15,
   "id": "d3ebaf8f",
   "metadata": {},
   "outputs": [],
   "source": [
    "\n",
    "demo['gender'] = demo['gender'].astype(str).str.strip().str.upper()\n",
    "gender_map = {\n",
    "    'M': 'male',\n",
    "    'F': 'female',\n",
    "    'U': 'unknown',\n",
    "    'X': 'unknown',  # Treat 'X' the same as 'U'\n",
    "    'NAN': 'unknown',\n",
    "}\n",
    "demo['gender'] = demo['gender'].map(gender_map)"
   ]
  },
  {
   "cell_type": "code",
   "execution_count": 16,
   "id": "6e2be359",
   "metadata": {},
   "outputs": [
    {
     "data": {
      "text/plain": [
       "array(['unknown', 'male', 'female'], dtype=object)"
      ]
     },
     "execution_count": 16,
     "metadata": {},
     "output_type": "execute_result"
    }
   ],
   "source": [
    "demo['gender'].unique()"
   ]
  },
  {
   "cell_type": "code",
   "execution_count": 17,
   "id": "e7b6dcd3",
   "metadata": {},
   "outputs": [
    {
     "data": {
      "text/html": [
       "<div>\n",
       "<style scoped>\n",
       "    .dataframe tbody tr th:only-of-type {\n",
       "        vertical-align: middle;\n",
       "    }\n",
       "\n",
       "    .dataframe tbody tr th {\n",
       "        vertical-align: top;\n",
       "    }\n",
       "\n",
       "    .dataframe thead th {\n",
       "        text-align: right;\n",
       "    }\n",
       "</style>\n",
       "<table border=\"1\" class=\"dataframe\">\n",
       "  <thead>\n",
       "    <tr style=\"text-align: right;\">\n",
       "      <th></th>\n",
       "      <th>client_id</th>\n",
       "      <th>tenure_year</th>\n",
       "      <th>tenure_month</th>\n",
       "      <th>age</th>\n",
       "      <th>gender</th>\n",
       "      <th>num_accounts</th>\n",
       "      <th>balance</th>\n",
       "      <th>calls_6_months</th>\n",
       "      <th>logons_6_months</th>\n",
       "    </tr>\n",
       "  </thead>\n",
       "  <tbody>\n",
       "    <tr>\n",
       "      <th>0</th>\n",
       "      <td>836976</td>\n",
       "      <td>6.0</td>\n",
       "      <td>73.0</td>\n",
       "      <td>60.5</td>\n",
       "      <td>unknown</td>\n",
       "      <td>2</td>\n",
       "      <td>45105.30</td>\n",
       "      <td>6</td>\n",
       "      <td>9</td>\n",
       "    </tr>\n",
       "    <tr>\n",
       "      <th>1</th>\n",
       "      <td>2304905</td>\n",
       "      <td>7.0</td>\n",
       "      <td>94.0</td>\n",
       "      <td>58.0</td>\n",
       "      <td>unknown</td>\n",
       "      <td>2</td>\n",
       "      <td>110860.30</td>\n",
       "      <td>6</td>\n",
       "      <td>9</td>\n",
       "    </tr>\n",
       "    <tr>\n",
       "      <th>2</th>\n",
       "      <td>1439522</td>\n",
       "      <td>5.0</td>\n",
       "      <td>64.0</td>\n",
       "      <td>32.0</td>\n",
       "      <td>unknown</td>\n",
       "      <td>2</td>\n",
       "      <td>52467.79</td>\n",
       "      <td>6</td>\n",
       "      <td>9</td>\n",
       "    </tr>\n",
       "    <tr>\n",
       "      <th>3</th>\n",
       "      <td>1562045</td>\n",
       "      <td>16.0</td>\n",
       "      <td>198.0</td>\n",
       "      <td>49.0</td>\n",
       "      <td>male</td>\n",
       "      <td>2</td>\n",
       "      <td>67454.65</td>\n",
       "      <td>3</td>\n",
       "      <td>6</td>\n",
       "    </tr>\n",
       "    <tr>\n",
       "      <th>4</th>\n",
       "      <td>5126305</td>\n",
       "      <td>12.0</td>\n",
       "      <td>145.0</td>\n",
       "      <td>33.0</td>\n",
       "      <td>female</td>\n",
       "      <td>2</td>\n",
       "      <td>103671.75</td>\n",
       "      <td>0</td>\n",
       "      <td>3</td>\n",
       "    </tr>\n",
       "    <tr>\n",
       "      <th>...</th>\n",
       "      <td>...</td>\n",
       "      <td>...</td>\n",
       "      <td>...</td>\n",
       "      <td>...</td>\n",
       "      <td>...</td>\n",
       "      <td>...</td>\n",
       "      <td>...</td>\n",
       "      <td>...</td>\n",
       "      <td>...</td>\n",
       "    </tr>\n",
       "    <tr>\n",
       "      <th>70604</th>\n",
       "      <td>7993686</td>\n",
       "      <td>4.0</td>\n",
       "      <td>56.0</td>\n",
       "      <td>38.5</td>\n",
       "      <td>unknown</td>\n",
       "      <td>3</td>\n",
       "      <td>1411062.68</td>\n",
       "      <td>5</td>\n",
       "      <td>5</td>\n",
       "    </tr>\n",
       "    <tr>\n",
       "      <th>70605</th>\n",
       "      <td>8981690</td>\n",
       "      <td>12.0</td>\n",
       "      <td>148.0</td>\n",
       "      <td>31.0</td>\n",
       "      <td>male</td>\n",
       "      <td>2</td>\n",
       "      <td>101867.07</td>\n",
       "      <td>6</td>\n",
       "      <td>6</td>\n",
       "    </tr>\n",
       "    <tr>\n",
       "      <th>70606</th>\n",
       "      <td>333913</td>\n",
       "      <td>16.0</td>\n",
       "      <td>198.0</td>\n",
       "      <td>61.5</td>\n",
       "      <td>female</td>\n",
       "      <td>2</td>\n",
       "      <td>40745.00</td>\n",
       "      <td>3</td>\n",
       "      <td>3</td>\n",
       "    </tr>\n",
       "    <tr>\n",
       "      <th>70607</th>\n",
       "      <td>1573142</td>\n",
       "      <td>21.0</td>\n",
       "      <td>255.0</td>\n",
       "      <td>68.0</td>\n",
       "      <td>male</td>\n",
       "      <td>3</td>\n",
       "      <td>475114.69</td>\n",
       "      <td>4</td>\n",
       "      <td>4</td>\n",
       "    </tr>\n",
       "    <tr>\n",
       "      <th>70608</th>\n",
       "      <td>5602139</td>\n",
       "      <td>21.0</td>\n",
       "      <td>254.0</td>\n",
       "      <td>59.5</td>\n",
       "      <td>female</td>\n",
       "      <td>3</td>\n",
       "      <td>157498.73</td>\n",
       "      <td>7</td>\n",
       "      <td>7</td>\n",
       "    </tr>\n",
       "  </tbody>\n",
       "</table>\n",
       "<p>70528 rows × 9 columns</p>\n",
       "</div>"
      ],
      "text/plain": [
       "       client_id  tenure_year  tenure_month   age   gender  num_accounts  \\\n",
       "0         836976          6.0          73.0  60.5  unknown             2   \n",
       "1        2304905          7.0          94.0  58.0  unknown             2   \n",
       "2        1439522          5.0          64.0  32.0  unknown             2   \n",
       "3        1562045         16.0         198.0  49.0     male             2   \n",
       "4        5126305         12.0         145.0  33.0   female             2   \n",
       "...          ...          ...           ...   ...      ...           ...   \n",
       "70604    7993686          4.0          56.0  38.5  unknown             3   \n",
       "70605    8981690         12.0         148.0  31.0     male             2   \n",
       "70606     333913         16.0         198.0  61.5   female             2   \n",
       "70607    1573142         21.0         255.0  68.0     male             3   \n",
       "70608    5602139         21.0         254.0  59.5   female             3   \n",
       "\n",
       "          balance  calls_6_months  logons_6_months  \n",
       "0        45105.30               6                9  \n",
       "1       110860.30               6                9  \n",
       "2        52467.79               6                9  \n",
       "3        67454.65               3                6  \n",
       "4       103671.75               0                3  \n",
       "...           ...             ...              ...  \n",
       "70604  1411062.68               5                5  \n",
       "70605   101867.07               6                6  \n",
       "70606    40745.00               3                3  \n",
       "70607   475114.69               4                4  \n",
       "70608   157498.73               7                7  \n",
       "\n",
       "[70528 rows x 9 columns]"
      ]
     },
     "execution_count": 17,
     "metadata": {},
     "output_type": "execute_result"
    }
   ],
   "source": [
    "# Remove rows where TenureYears > 42\n",
    "demo = demo[demo['tenure_year'] <= 42]\n",
    "\n",
    "demo"
   ]
  },
  {
   "cell_type": "code",
   "execution_count": 18,
   "id": "2e856d4d",
   "metadata": {},
   "outputs": [
    {
     "data": {
      "text/plain": [
       "array(['test', 'control', nan], dtype=object)"
      ]
     },
     "execution_count": 18,
     "metadata": {},
     "output_type": "execute_result"
    }
   ],
   "source": [
    "experiment['variation'] = experiment['variation'].str.lower()\n",
    "experiment['variation'].unique()"
   ]
  },
  {
   "cell_type": "code",
   "execution_count": 19,
   "id": "973b1524",
   "metadata": {},
   "outputs": [
    {
     "data": {
      "text/plain": [
       "variation\n",
       "test       26968\n",
       "control    23532\n",
       "NaN        20109\n",
       "Name: count, dtype: int64"
      ]
     },
     "execution_count": 19,
     "metadata": {},
     "output_type": "execute_result"
    }
   ],
   "source": [
    "experiment['variation'].value_counts(dropna=False)\n"
   ]
  },
  {
   "cell_type": "code",
   "execution_count": 20,
   "id": "1c641273",
   "metadata": {},
   "outputs": [
    {
     "data": {
      "text/plain": [
       "array(['test', 'control', 'unknown'], dtype=object)"
      ]
     },
     "execution_count": 20,
     "metadata": {},
     "output_type": "execute_result"
    }
   ],
   "source": [
    "experiment['variation'] = experiment['variation'].fillna('unknown')\n",
    "experiment['variation'].unique()"
   ]
  },
  {
   "cell_type": "code",
   "execution_count": 21,
   "id": "4e70065e",
   "metadata": {},
   "outputs": [],
   "source": [
    "web['date_time'] = pd.to_datetime(web['date_time'])"
   ]
  },
  {
   "cell_type": "code",
   "execution_count": 22,
   "id": "aaef696f",
   "metadata": {},
   "outputs": [],
   "source": [
    "web[['visitor_id', 'visit_id', 'process_step']] = web[['visitor_id', 'visit_id', 'process_step']].apply(lambda col: col.str.strip().str.lower())"
   ]
  },
  {
   "cell_type": "code",
   "execution_count": 23,
   "id": "3c4e96fa",
   "metadata": {},
   "outputs": [
    {
     "name": "stdout",
     "output_type": "stream",
     "text": [
      "\n",
      "Null values in demo:\n",
      "client_id          0\n",
      "tenure_year        0\n",
      "tenure_month       0\n",
      "age                0\n",
      "gender             0\n",
      "num_accounts       0\n",
      "balance            0\n",
      "calls_6_months     0\n",
      "logons_6_months    0\n",
      "dtype: int64\n",
      "\n",
      "Null values in dexperiment:\n",
      "client_id    0\n",
      "variation    0\n",
      "dtype: int64\n",
      "\n",
      "Null values in web:\n",
      "client_id       0\n",
      "visitor_id      0\n",
      "visit_id        0\n",
      "process_step    0\n",
      "date_time       0\n",
      "dtype: int64\n"
     ]
    }
   ],
   "source": [
    "# Original DataFrames stored in a dictionary\n",
    "dfs = {\n",
    "    \"demo\": demo,\n",
    "    \"dexperiment\": experiment,\n",
    "    \"web\": web\n",
    "}\n",
    "\n",
    "# Drop nulls from each DataFrame\n",
    "for name in dfs:\n",
    "    dfs[name] = dfs[name].dropna()\n",
    "    print(f\"\\nNull values in {name}:\")\n",
    "    print(dfs[name].isnull().sum())"
   ]
  },
  {
   "cell_type": "code",
   "execution_count": 24,
   "id": "3e126d8b",
   "metadata": {},
   "outputs": [
    {
     "name": "stdout",
     "output_type": "stream",
     "text": [
      "(443365, 14)\n",
      "Index(['client_id', 'visitor_id', 'visit_id', 'process_step', 'date_time',\n",
      "       'tenure_year', 'tenure_month', 'age', 'gender', 'num_accounts',\n",
      "       'balance', 'calls_6_months', 'logons_6_months', 'variation'],\n",
      "      dtype='object')\n"
     ]
    }
   ],
   "source": [
    "# Merge demo + experiment\n",
    "base = pd.merge(demo, experiment, on='client_id', how='left') # Chose left to keep all clients from demo (even those not in the experiment).\n",
    "\n",
    "\n",
    "# Merge with web Data\n",
    "merged = pd.merge(web, base, on='client_id', how='inner') # This links every web event to client demographics and the A/B test group.\n",
    "\n",
    "\n",
    "\n",
    "print(merged.shape)\n",
    "print(merged.columns)\n"
   ]
  },
  {
   "cell_type": "code",
   "execution_count": 25,
   "id": "6d2a1c06",
   "metadata": {},
   "outputs": [
    {
     "name": "stdout",
     "output_type": "stream",
     "text": [
      "\n",
      "Null Value Counts:\n",
      "client_id          0\n",
      "tenure_year        0\n",
      "tenure_month       0\n",
      "age                1\n",
      "gender             0\n",
      "num_accounts       0\n",
      "balance            0\n",
      "calls_6_months     0\n",
      "logons_6_months    0\n",
      "variation          0\n",
      "dtype: int64\n"
     ]
    }
   ],
   "source": [
    "#check null values \n",
    "null_counts = base.isnull().sum()\n",
    "print(\"\\nNull Value Counts:\")\n",
    "print(null_counts)"
   ]
  },
  {
   "cell_type": "code",
   "execution_count": 26,
   "id": "df97e190",
   "metadata": {},
   "outputs": [],
   "source": [
    "#drop null values\n",
    "base = base.dropna(subset=['age'])"
   ]
  },
  {
   "cell_type": "code",
   "execution_count": 27,
   "id": "1eaf682a",
   "metadata": {},
   "outputs": [
    {
     "name": "stdout",
     "output_type": "stream",
     "text": [
      "\n",
      "Null Value Counts:\n",
      "client_id          0\n",
      "tenure_year        0\n",
      "tenure_month       0\n",
      "age                0\n",
      "gender             0\n",
      "num_accounts       0\n",
      "balance            0\n",
      "calls_6_months     0\n",
      "logons_6_months    0\n",
      "variation          0\n",
      "dtype: int64\n"
     ]
    }
   ],
   "source": [
    "#check null values \n",
    "null_counts = base.isnull().sum()\n",
    "print(\"\\nNull Value Counts:\")\n",
    "print(null_counts)"
   ]
  },
  {
   "cell_type": "code",
   "execution_count": 28,
   "id": "a1fd3c0d",
   "metadata": {},
   "outputs": [
    {
     "name": "stdout",
     "output_type": "stream",
     "text": [
      "\n",
      "Null Value Counts:\n",
      "client_id           0\n",
      "visitor_id          0\n",
      "visit_id            0\n",
      "process_step        0\n",
      "date_time           0\n",
      "tenure_year         0\n",
      "tenure_month        0\n",
      "age                12\n",
      "gender              0\n",
      "num_accounts        0\n",
      "balance             0\n",
      "calls_6_months      0\n",
      "logons_6_months     0\n",
      "variation           0\n",
      "dtype: int64\n"
     ]
    }
   ],
   "source": [
    "#check null values \n",
    "null_counts = merged.isnull().sum()\n",
    "print(\"\\nNull Value Counts:\")\n",
    "print(null_counts)"
   ]
  },
  {
   "cell_type": "code",
   "execution_count": 29,
   "id": "a0ad18c5",
   "metadata": {},
   "outputs": [],
   "source": [
    "#drop null values\n",
    "merged = merged.dropna(subset=['age'])"
   ]
  },
  {
   "cell_type": "code",
   "execution_count": 30,
   "id": "1ad79858",
   "metadata": {},
   "outputs": [
    {
     "name": "stdout",
     "output_type": "stream",
     "text": [
      "\n",
      "Null Value Counts:\n",
      "client_id          0\n",
      "visitor_id         0\n",
      "visit_id           0\n",
      "process_step       0\n",
      "date_time          0\n",
      "tenure_year        0\n",
      "tenure_month       0\n",
      "age                0\n",
      "gender             0\n",
      "num_accounts       0\n",
      "balance            0\n",
      "calls_6_months     0\n",
      "logons_6_months    0\n",
      "variation          0\n",
      "dtype: int64\n"
     ]
    }
   ],
   "source": [
    "#check null values \n",
    "null_counts = merged.isnull().sum()\n",
    "print(\"\\nNull Value Counts:\")\n",
    "print(null_counts)"
   ]
  },
  {
   "cell_type": "code",
   "execution_count": 31,
   "id": "0d0042a3",
   "metadata": {},
   "outputs": [
    {
     "data": {
      "text/plain": [
       "np.int64(0)"
      ]
     },
     "execution_count": 31,
     "metadata": {},
     "output_type": "execute_result"
    }
   ],
   "source": [
    "merged.duplicated().sum()"
   ]
  },
  {
   "cell_type": "code",
   "execution_count": 32,
   "id": "055d527f",
   "metadata": {},
   "outputs": [
    {
     "name": "stdout",
     "output_type": "stream",
     "text": [
      " Merging complete and saved as demo.csv\n",
      " Merging complete and saved as base.csv\n",
      " Merging complete and saved as vanguard_merged.csv\n"
     ]
    }
   ],
   "source": [
    "demo.to_csv(\"demo.csv\", index=False)\n",
    "print(\" Merging complete and saved as demo.csv\")\n",
    "base.to_csv(\"base.csv\", index=False)\n",
    "print(\" Merging complete and saved as base.csv\")\n",
    "merged.to_csv('vanguard_merged.csv', index=False, encoding='utf-8')\n",
    "print(\" Merging complete and saved as vanguard_merged.csv\")\n"
   ]
  }
 ],
 "metadata": {
  "kernelspec": {
   "display_name": "Python 3",
   "language": "python",
   "name": "python3"
  },
  "language_info": {
   "codemirror_mode": {
    "name": "ipython",
    "version": 3
   },
   "file_extension": ".py",
   "mimetype": "text/x-python",
   "name": "python",
   "nbconvert_exporter": "python",
   "pygments_lexer": "ipython3",
   "version": "3.13.2"
  }
 },
 "nbformat": 4,
 "nbformat_minor": 5
}
