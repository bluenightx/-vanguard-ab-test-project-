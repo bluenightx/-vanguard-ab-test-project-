{
 "cells": [
  {
   "cell_type": "code",
   "execution_count": 1,
   "id": "833d4595",
   "metadata": {},
   "outputs": [],
   "source": [
    "import pandas as pd\n",
    "import plotly.graph_objects as go\n",
    "import matplotlib.pyplot as plt"
   ]
  },
  {
   "cell_type": "markdown",
   "id": "3f5bd67c",
   "metadata": {},
   "source": [
    "# * KPI/METRICS"
   ]
  },
  {
   "cell_type": "markdown",
   "id": "557c649b",
   "metadata": {},
   "source": [
    "* *KPI/METRICS: Completion Rate: The proportion of users who reach the final ‘confirm’ step.*"
   ]
  },
  {
   "cell_type": "code",
   "execution_count": 2,
   "id": "ff7ebbb2",
   "metadata": {},
   "outputs": [],
   "source": [
    "merged = pd.read_csv(\"vanguard_merged.csv\")"
   ]
  },
  {
   "cell_type": "code",
   "execution_count": 3,
   "id": "52e78ef7",
   "metadata": {},
   "outputs": [
    {
     "name": "stdout",
     "output_type": "stream",
     "text": [
      "variation\n",
      "control    26252\n",
      "test       29879\n",
      "Name: visitor_id, dtype: int64\n"
     ]
    },
    {
     "data": {
      "text/plain": [
       "variation  process_step\n",
       "control    confirm         15548\n",
       "           start           25884\n",
       "           step_1          21210\n",
       "           step_2          19143\n",
       "           step_3          17677\n",
       "test       confirm         19481\n",
       "           start           28698\n",
       "           step_1          25519\n",
       "           step_2          22949\n",
       "           step_3          21245\n",
       "Name: visitor_id, dtype: int64"
      ]
     },
     "execution_count": 3,
     "metadata": {},
     "output_type": "execute_result"
    }
   ],
   "source": [
    "# Filter out 'unknown' variation\n",
    "filtered = merged[merged['variation'].isin(['control', 'test'])]\n",
    "\n",
    "# Count unique visitor_id per variation\n",
    "visitor_counts = filtered.groupby('variation')['visitor_id'].nunique()\n",
    "\n",
    "print(visitor_counts)\n",
    "\n",
    "# Group by variation and process_step, count unique visitor_id\n",
    "visitor_counts = filtered.groupby(['variation', 'process_step'])['visitor_id'].nunique()\n",
    "visitor_counts"
   ]
  },
  {
   "cell_type": "code",
   "execution_count": 4,
   "id": "f8b5e401",
   "metadata": {},
   "outputs": [
    {
     "name": "stdout",
     "output_type": "stream",
     "text": [
      "Completion Rate by Variation (%):\n",
      "variation\n",
      "control    60.07\n",
      "test       67.88\n",
      "Name: visitor_id, dtype: float64\n"
     ]
    }
   ],
   "source": [
    "# Keep only 'control' and 'test' variations\n",
    "subset = merged[merged['variation'].isin(['control', 'test'])]\n",
    "\n",
    "# Total starters per variation (based on process_step == 'start')\n",
    "starters = subset[subset['process_step'] == 'start'].groupby('variation')['visitor_id'].nunique()\n",
    "\n",
    "# Total completions per variation (based on process_step == 'confirm')\n",
    "completions = subset[subset['process_step'] == 'confirm'].groupby('variation')['visitor_id'].nunique()\n",
    "\n",
    "# Calculate completion rate as percentage\n",
    "completion_rate = (completions / starters * 100).round(2)\n",
    "\n",
    "print(\"Completion Rate by Variation (%):\")\n",
    "print(completion_rate)\n"
   ]
  },
  {
   "cell_type": "code",
   "execution_count": 5,
   "id": "5992e693",
   "metadata": {},
   "outputs": [
    {
     "data": {
      "application/vnd.plotly.v1+json": {
       "config": {
        "plotlyServerURL": "https://plot.ly"
       },
       "data": [
        {
         "marker": {
          "color": [
           "white",
           "lightseagreen"
          ]
         },
         "text": [
          "60.1%",
          "67.9%"
         ],
         "textposition": "auto",
         "type": "bar",
         "x": [
          "Control",
          "Test"
         ],
         "y": [
          60.08,
          67.88
         ]
        }
       ],
       "layout": {
        "bargap": 0.3,
        "font": {
         "color": "white"
        },
        "paper_bgcolor": "#1a1a1a",
        "plot_bgcolor": "#1a1a1a",
        "template": {
         "data": {
          "bar": [
           {
            "error_x": {
             "color": "#2a3f5f"
            },
            "error_y": {
             "color": "#2a3f5f"
            },
            "marker": {
             "line": {
              "color": "#E5ECF6",
              "width": 0.5
             },
             "pattern": {
              "fillmode": "overlay",
              "size": 10,
              "solidity": 0.2
             }
            },
            "type": "bar"
           }
          ],
          "barpolar": [
           {
            "marker": {
             "line": {
              "color": "#E5ECF6",
              "width": 0.5
             },
             "pattern": {
              "fillmode": "overlay",
              "size": 10,
              "solidity": 0.2
             }
            },
            "type": "barpolar"
           }
          ],
          "carpet": [
           {
            "aaxis": {
             "endlinecolor": "#2a3f5f",
             "gridcolor": "white",
             "linecolor": "white",
             "minorgridcolor": "white",
             "startlinecolor": "#2a3f5f"
            },
            "baxis": {
             "endlinecolor": "#2a3f5f",
             "gridcolor": "white",
             "linecolor": "white",
             "minorgridcolor": "white",
             "startlinecolor": "#2a3f5f"
            },
            "type": "carpet"
           }
          ],
          "choropleth": [
           {
            "colorbar": {
             "outlinewidth": 0,
             "ticks": ""
            },
            "type": "choropleth"
           }
          ],
          "contour": [
           {
            "colorbar": {
             "outlinewidth": 0,
             "ticks": ""
            },
            "colorscale": [
             [
              0,
              "#0d0887"
             ],
             [
              0.1111111111111111,
              "#46039f"
             ],
             [
              0.2222222222222222,
              "#7201a8"
             ],
             [
              0.3333333333333333,
              "#9c179e"
             ],
             [
              0.4444444444444444,
              "#bd3786"
             ],
             [
              0.5555555555555556,
              "#d8576b"
             ],
             [
              0.6666666666666666,
              "#ed7953"
             ],
             [
              0.7777777777777778,
              "#fb9f3a"
             ],
             [
              0.8888888888888888,
              "#fdca26"
             ],
             [
              1,
              "#f0f921"
             ]
            ],
            "type": "contour"
           }
          ],
          "contourcarpet": [
           {
            "colorbar": {
             "outlinewidth": 0,
             "ticks": ""
            },
            "type": "contourcarpet"
           }
          ],
          "heatmap": [
           {
            "colorbar": {
             "outlinewidth": 0,
             "ticks": ""
            },
            "colorscale": [
             [
              0,
              "#0d0887"
             ],
             [
              0.1111111111111111,
              "#46039f"
             ],
             [
              0.2222222222222222,
              "#7201a8"
             ],
             [
              0.3333333333333333,
              "#9c179e"
             ],
             [
              0.4444444444444444,
              "#bd3786"
             ],
             [
              0.5555555555555556,
              "#d8576b"
             ],
             [
              0.6666666666666666,
              "#ed7953"
             ],
             [
              0.7777777777777778,
              "#fb9f3a"
             ],
             [
              0.8888888888888888,
              "#fdca26"
             ],
             [
              1,
              "#f0f921"
             ]
            ],
            "type": "heatmap"
           }
          ],
          "histogram": [
           {
            "marker": {
             "pattern": {
              "fillmode": "overlay",
              "size": 10,
              "solidity": 0.2
             }
            },
            "type": "histogram"
           }
          ],
          "histogram2d": [
           {
            "colorbar": {
             "outlinewidth": 0,
             "ticks": ""
            },
            "colorscale": [
             [
              0,
              "#0d0887"
             ],
             [
              0.1111111111111111,
              "#46039f"
             ],
             [
              0.2222222222222222,
              "#7201a8"
             ],
             [
              0.3333333333333333,
              "#9c179e"
             ],
             [
              0.4444444444444444,
              "#bd3786"
             ],
             [
              0.5555555555555556,
              "#d8576b"
             ],
             [
              0.6666666666666666,
              "#ed7953"
             ],
             [
              0.7777777777777778,
              "#fb9f3a"
             ],
             [
              0.8888888888888888,
              "#fdca26"
             ],
             [
              1,
              "#f0f921"
             ]
            ],
            "type": "histogram2d"
           }
          ],
          "histogram2dcontour": [
           {
            "colorbar": {
             "outlinewidth": 0,
             "ticks": ""
            },
            "colorscale": [
             [
              0,
              "#0d0887"
             ],
             [
              0.1111111111111111,
              "#46039f"
             ],
             [
              0.2222222222222222,
              "#7201a8"
             ],
             [
              0.3333333333333333,
              "#9c179e"
             ],
             [
              0.4444444444444444,
              "#bd3786"
             ],
             [
              0.5555555555555556,
              "#d8576b"
             ],
             [
              0.6666666666666666,
              "#ed7953"
             ],
             [
              0.7777777777777778,
              "#fb9f3a"
             ],
             [
              0.8888888888888888,
              "#fdca26"
             ],
             [
              1,
              "#f0f921"
             ]
            ],
            "type": "histogram2dcontour"
           }
          ],
          "mesh3d": [
           {
            "colorbar": {
             "outlinewidth": 0,
             "ticks": ""
            },
            "type": "mesh3d"
           }
          ],
          "parcoords": [
           {
            "line": {
             "colorbar": {
              "outlinewidth": 0,
              "ticks": ""
             }
            },
            "type": "parcoords"
           }
          ],
          "pie": [
           {
            "automargin": true,
            "type": "pie"
           }
          ],
          "scatter": [
           {
            "fillpattern": {
             "fillmode": "overlay",
             "size": 10,
             "solidity": 0.2
            },
            "type": "scatter"
           }
          ],
          "scatter3d": [
           {
            "line": {
             "colorbar": {
              "outlinewidth": 0,
              "ticks": ""
             }
            },
            "marker": {
             "colorbar": {
              "outlinewidth": 0,
              "ticks": ""
             }
            },
            "type": "scatter3d"
           }
          ],
          "scattercarpet": [
           {
            "marker": {
             "colorbar": {
              "outlinewidth": 0,
              "ticks": ""
             }
            },
            "type": "scattercarpet"
           }
          ],
          "scattergeo": [
           {
            "marker": {
             "colorbar": {
              "outlinewidth": 0,
              "ticks": ""
             }
            },
            "type": "scattergeo"
           }
          ],
          "scattergl": [
           {
            "marker": {
             "colorbar": {
              "outlinewidth": 0,
              "ticks": ""
             }
            },
            "type": "scattergl"
           }
          ],
          "scattermap": [
           {
            "marker": {
             "colorbar": {
              "outlinewidth": 0,
              "ticks": ""
             }
            },
            "type": "scattermap"
           }
          ],
          "scattermapbox": [
           {
            "marker": {
             "colorbar": {
              "outlinewidth": 0,
              "ticks": ""
             }
            },
            "type": "scattermapbox"
           }
          ],
          "scatterpolar": [
           {
            "marker": {
             "colorbar": {
              "outlinewidth": 0,
              "ticks": ""
             }
            },
            "type": "scatterpolar"
           }
          ],
          "scatterpolargl": [
           {
            "marker": {
             "colorbar": {
              "outlinewidth": 0,
              "ticks": ""
             }
            },
            "type": "scatterpolargl"
           }
          ],
          "scatterternary": [
           {
            "marker": {
             "colorbar": {
              "outlinewidth": 0,
              "ticks": ""
             }
            },
            "type": "scatterternary"
           }
          ],
          "surface": [
           {
            "colorbar": {
             "outlinewidth": 0,
             "ticks": ""
            },
            "colorscale": [
             [
              0,
              "#0d0887"
             ],
             [
              0.1111111111111111,
              "#46039f"
             ],
             [
              0.2222222222222222,
              "#7201a8"
             ],
             [
              0.3333333333333333,
              "#9c179e"
             ],
             [
              0.4444444444444444,
              "#bd3786"
             ],
             [
              0.5555555555555556,
              "#d8576b"
             ],
             [
              0.6666666666666666,
              "#ed7953"
             ],
             [
              0.7777777777777778,
              "#fb9f3a"
             ],
             [
              0.8888888888888888,
              "#fdca26"
             ],
             [
              1,
              "#f0f921"
             ]
            ],
            "type": "surface"
           }
          ],
          "table": [
           {
            "cells": {
             "fill": {
              "color": "#EBF0F8"
             },
             "line": {
              "color": "white"
             }
            },
            "header": {
             "fill": {
              "color": "#C8D4E3"
             },
             "line": {
              "color": "white"
             }
            },
            "type": "table"
           }
          ]
         },
         "layout": {
          "annotationdefaults": {
           "arrowcolor": "#2a3f5f",
           "arrowhead": 0,
           "arrowwidth": 1
          },
          "autotypenumbers": "strict",
          "coloraxis": {
           "colorbar": {
            "outlinewidth": 0,
            "ticks": ""
           }
          },
          "colorscale": {
           "diverging": [
            [
             0,
             "#8e0152"
            ],
            [
             0.1,
             "#c51b7d"
            ],
            [
             0.2,
             "#de77ae"
            ],
            [
             0.3,
             "#f1b6da"
            ],
            [
             0.4,
             "#fde0ef"
            ],
            [
             0.5,
             "#f7f7f7"
            ],
            [
             0.6,
             "#e6f5d0"
            ],
            [
             0.7,
             "#b8e186"
            ],
            [
             0.8,
             "#7fbc41"
            ],
            [
             0.9,
             "#4d9221"
            ],
            [
             1,
             "#276419"
            ]
           ],
           "sequential": [
            [
             0,
             "#0d0887"
            ],
            [
             0.1111111111111111,
             "#46039f"
            ],
            [
             0.2222222222222222,
             "#7201a8"
            ],
            [
             0.3333333333333333,
             "#9c179e"
            ],
            [
             0.4444444444444444,
             "#bd3786"
            ],
            [
             0.5555555555555556,
             "#d8576b"
            ],
            [
             0.6666666666666666,
             "#ed7953"
            ],
            [
             0.7777777777777778,
             "#fb9f3a"
            ],
            [
             0.8888888888888888,
             "#fdca26"
            ],
            [
             1,
             "#f0f921"
            ]
           ],
           "sequentialminus": [
            [
             0,
             "#0d0887"
            ],
            [
             0.1111111111111111,
             "#46039f"
            ],
            [
             0.2222222222222222,
             "#7201a8"
            ],
            [
             0.3333333333333333,
             "#9c179e"
            ],
            [
             0.4444444444444444,
             "#bd3786"
            ],
            [
             0.5555555555555556,
             "#d8576b"
            ],
            [
             0.6666666666666666,
             "#ed7953"
            ],
            [
             0.7777777777777778,
             "#fb9f3a"
            ],
            [
             0.8888888888888888,
             "#fdca26"
            ],
            [
             1,
             "#f0f921"
            ]
           ]
          },
          "colorway": [
           "#636efa",
           "#EF553B",
           "#00cc96",
           "#ab63fa",
           "#FFA15A",
           "#19d3f3",
           "#FF6692",
           "#B6E880",
           "#FF97FF",
           "#FECB52"
          ],
          "font": {
           "color": "#2a3f5f"
          },
          "geo": {
           "bgcolor": "white",
           "lakecolor": "white",
           "landcolor": "#E5ECF6",
           "showlakes": true,
           "showland": true,
           "subunitcolor": "white"
          },
          "hoverlabel": {
           "align": "left"
          },
          "hovermode": "closest",
          "mapbox": {
           "style": "light"
          },
          "paper_bgcolor": "white",
          "plot_bgcolor": "#E5ECF6",
          "polar": {
           "angularaxis": {
            "gridcolor": "white",
            "linecolor": "white",
            "ticks": ""
           },
           "bgcolor": "#E5ECF6",
           "radialaxis": {
            "gridcolor": "white",
            "linecolor": "white",
            "ticks": ""
           }
          },
          "scene": {
           "xaxis": {
            "backgroundcolor": "#E5ECF6",
            "gridcolor": "white",
            "gridwidth": 2,
            "linecolor": "white",
            "showbackground": true,
            "ticks": "",
            "zerolinecolor": "white"
           },
           "yaxis": {
            "backgroundcolor": "#E5ECF6",
            "gridcolor": "white",
            "gridwidth": 2,
            "linecolor": "white",
            "showbackground": true,
            "ticks": "",
            "zerolinecolor": "white"
           },
           "zaxis": {
            "backgroundcolor": "#E5ECF6",
            "gridcolor": "white",
            "gridwidth": 2,
            "linecolor": "white",
            "showbackground": true,
            "ticks": "",
            "zerolinecolor": "white"
           }
          },
          "shapedefaults": {
           "line": {
            "color": "#2a3f5f"
           }
          },
          "ternary": {
           "aaxis": {
            "gridcolor": "white",
            "linecolor": "white",
            "ticks": ""
           },
           "baxis": {
            "gridcolor": "white",
            "linecolor": "white",
            "ticks": ""
           },
           "bgcolor": "#E5ECF6",
           "caxis": {
            "gridcolor": "white",
            "linecolor": "white",
            "ticks": ""
           }
          },
          "title": {
           "x": 0.05
          },
          "xaxis": {
           "automargin": true,
           "gridcolor": "white",
           "linecolor": "white",
           "ticks": "",
           "title": {
            "standoff": 15
           },
           "zerolinecolor": "white",
           "zerolinewidth": 2
          },
          "yaxis": {
           "automargin": true,
           "gridcolor": "white",
           "linecolor": "white",
           "ticks": "",
           "title": {
            "standoff": 15
           },
           "zerolinecolor": "white",
           "zerolinewidth": 2
          }
         }
        },
        "title": {
         "text": "Completion Rate"
        },
        "xaxis": {
         "color": "white",
         "title": {
          "text": "Variation Group"
         }
        },
        "yaxis": {
         "color": "white",
         "range": [
          0,
          100
         ],
         "title": {
          "text": "Completion Rate (%)"
         }
        }
       }
      }
     },
     "metadata": {},
     "output_type": "display_data"
    }
   ],
   "source": [
    "\n",
    "\n",
    "# Completion rate data\n",
    "variations = ['Control', 'Test']\n",
    "completion_rates = [60.08, 67.88]\n",
    "\n",
    "# Create bar chart\n",
    "fig = go.Figure(data=[\n",
    "    go.Bar(\n",
    "        x=variations,\n",
    "        y=completion_rates,\n",
    "        text=[f'{rate:.1f}%' for rate in completion_rates],\n",
    "        textposition='auto',\n",
    "        marker_color=['white', 'lightseagreen']  # Custom bar colors\n",
    "    )\n",
    "])\n",
    "\n",
    "# Update layout with deep gray background and white text\n",
    "fig.update_layout(\n",
    "    title='Completion Rate',\n",
    "    xaxis_title='Variation Group',\n",
    "    yaxis_title='Completion Rate (%)',\n",
    "    yaxis=dict(range=[0, 100], color='white'),\n",
    "    xaxis=dict(color='white'),\n",
    "    plot_bgcolor='#1a1a1a',\n",
    "    paper_bgcolor='#1a1a1a',\n",
    "    font=dict(color='white'),\n",
    "    bargap=0.3\n",
    ")\n",
    "\n",
    "fig.show()\n"
   ]
  },
  {
   "cell_type": "code",
   "execution_count": 6,
   "id": "29cc90cd",
   "metadata": {},
   "outputs": [
    {
     "name": "stdout",
     "output_type": "stream",
     "text": [
      "Step counts by variation:\n",
      "process_step  confirm  start  step_1  step_2  step_3\n",
      "variation                                           \n",
      "control         17315  45320   29505   25742   22476\n",
      "test            25571  55707   38619   30865   25733\n",
      "\n",
      "Step percentages by variation:\n",
      "process_step  confirm  start  step_1  step_2  step_3\n",
      "variation                                           \n",
      "control         12.34  32.29   21.02   18.34   16.01\n",
      "test            14.49  31.56   21.88   17.49   14.58\n"
     ]
    },
    {
     "data": {
      "image/png": "[encoded data removed]",
      "text/plain": [
       "<Figure size 1000x600 with 1 Axes>"
      ]
     },
     "metadata": {},
     "output_type": "display_data"
    }
   ],
   "source": [
    "# Funnel Conversion by Process Step and Variation\n",
    "\n",
    "# Filter out the 'unknown' variation group\n",
    "filtered = merged[merged['variation'].isin(['control', 'test'])]\n",
    "\n",
    "# Group and count number of users per process step for each variation\n",
    "step_counts_by_variation = filtered.groupby(['variation', 'process_step']).size().unstack()\n",
    "\n",
    "# Display the raw counts\n",
    "print(\"Step counts by variation:\")\n",
    "print(step_counts_by_variation)\n",
    "\n",
    "# Normalize counts to percentages per variation group (row-wise)\n",
    "step_percent_by_variation = step_counts_by_variation.div(step_counts_by_variation.sum(axis=1), axis=0) * 100\n",
    "\n",
    "# Display the percentage result (rounded for neatness)\n",
    "print(\"\\nStep percentages by variation:\")\n",
    "print(step_percent_by_variation.round(2))\n",
    "\n",
    "# Reorder steps for consistent plotting (if all steps exist in the data)\n",
    "step_order = ['start', 'step_1', 'step_2', 'step_3', 'confirm']\n",
    "available_steps = [step for step in step_order if step in step_percent_by_variation.columns]\n",
    "step_percent_ordered = step_percent_by_variation[available_steps]\n",
    "\n",
    "# Create the bar plot\n",
    "ax = step_percent_ordered.T.plot(kind='bar', figsize=(10, 6), colormap='Set2')\n",
    "plt.ylabel('Percentage of Users')\n",
    "plt.title('Funnel Conversion by Process Step and Variation')\n",
    "plt.xticks(rotation=0)\n",
    "plt.tight_layout()\n",
    "\n",
    "# Annotate percentages on the bars\n",
    "for container in ax.containers:\n",
    "    ax.bar_label(container, fmt='%.1f%%', label_type='center', color='black', fontsize=9)\n",
    "\n",
    "# Set black background for figure and axes\n",
    "fig = ax.get_figure()\n",
    "fig.patch.set_facecolor('black')      # Figure background\n",
    "ax.set_facecolor('black')             # Axes background\n",
    "\n",
    "# Adjust text and tick colors for visibility\n",
    "ax.title.set_color('white')\n",
    "ax.yaxis.label.set_color('white')\n",
    "ax.xaxis.label.set_color('white')\n",
    "ax.tick_params(axis='x', colors='white')\n",
    "ax.tick_params(axis='y', colors='white')\n",
    "\n",
    "# Display the plot\n",
    "plt.grid()\n",
    "plt.show()"
   ]
  },
  {
   "cell_type": "markdown",
   "id": "189b8145",
   "metadata": {},
   "source": [
    "Switched to group percentages rather than raw counts to compare behaviours accross variations (control, test).\n",
    "While the \"start step\" had a higher percentage of visitors for the control group, the test group had the higher percentage of visitors reached the \"confirm step\""
   ]
  },
  {
   "cell_type": "markdown",
   "id": "07695672",
   "metadata": {},
   "source": [
    "* *KPI/METRICS: Time Spent on Each Step: The average duration users spend on each step.*"
   ]
  },
  {
   "cell_type": "code",
   "execution_count": 7,
   "id": "bfb9c363",
   "metadata": {},
   "outputs": [
    {
     "name": "stdout",
     "output_type": "stream",
     "text": [
      "variation  process_step\n",
      "control    confirm          805.12\n",
      "           start           4706.99\n",
      "           step_1            14.57\n",
      "           step_2             0.66\n",
      "           step_3             5.86\n",
      "test       confirm         1225.55\n",
      "           start           3163.52\n",
      "           step_1            15.90\n",
      "           step_2             1.40\n",
      "           step_3             9.32\n",
      "Name: step_duration, dtype: float64\n"
     ]
    }
   ],
   "source": [
    "#Average Time per Step Duration\n",
    "\n",
    "\n",
    "\n",
    "# Ensure datetime format\n",
    "merged['date_time'] = pd.to_datetime(merged['date_time'])\n",
    "\n",
    "# Filter out rows with unknown variation\n",
    "merged = merged[merged['variation'].str.lower() != 'unknown']\n",
    "\n",
    "# Sort data\n",
    "merged_sorted = merged.sort_values(by=['visitor_id', 'date_time'])\n",
    "\n",
    "# Calculate time spent between steps per visitor\n",
    "merged_sorted['step_duration'] = merged_sorted.groupby('visitor_id')['date_time'].diff().dt.total_seconds()\n",
    "\n",
    "# Drop NaNs (first steps)\n",
    "step_durations = merged_sorted.dropna(subset=['step_duration'])\n",
    "\n",
    "# Group by variation (test/control) and process step\n",
    "average_time_per_step = (\n",
    "    step_durations\n",
    "    .groupby(['variation', 'process_step'])['step_duration']\n",
    "    .mean() / 60  # Convert to minutes\n",
    ")\n",
    "\n",
    "# Round and print\n",
    "print(average_time_per_step.round(2))\n",
    "\n"
   ]
  },
  {
   "cell_type": "code",
   "execution_count": 8,
   "id": "27fa015c",
   "metadata": {},
   "outputs": [],
   "source": [
    "# we add session cut-off to clean up long durations\n",
    "#we consider filtering out gaps longer than, say, 30 minutes (or 1 hour):\n",
    "\n",
    "step_durations = merged_sorted.dropna(subset=['step_duration'])\n",
    "step_durations = step_durations[step_durations['step_duration'] <= 3600]  # 3600 seconds = 1 hour\n"
   ]
  },
  {
   "cell_type": "code",
   "execution_count": 9,
   "id": "af4d574f",
   "metadata": {},
   "outputs": [
    {
     "name": "stdout",
     "output_type": "stream",
     "text": [
      "variation  process_step\n",
      "control    confirm         2.16\n",
      "           start           3.00\n",
      "           step_1          0.72\n",
      "           step_2          0.66\n",
      "           step_3          1.57\n",
      "test       confirm         2.15\n",
      "           start           2.61\n",
      "           step_1          0.64\n",
      "           step_2          0.82\n",
      "           step_3          1.63\n",
      "Name: step_duration, dtype: float64\n"
     ]
    }
   ],
   "source": [
    "average_time_per_step = step_durations.groupby(['variation', 'process_step'])['step_duration'].mean() / 60\n",
    "print(average_time_per_step.round(2))\n"
   ]
  },
  {
   "cell_type": "code",
   "execution_count": 10,
   "id": "3a29fa54",
   "metadata": {},
   "outputs": [
    {
     "data": {
      "image/png": "[encoded data removed]",
      "text/plain": [
       "<Figure size 1000x600 with 1 Axes>"
      ]
     },
     "metadata": {},
     "output_type": "display_data"
    }
   ],
   "source": [
    "# Reshape the data\n",
    "bar_data = average_time_per_step.unstack(level=0)\n",
    "\n",
    "# Move 'confirm' to the end of the index\n",
    "if 'confirm' in bar_data.index:\n",
    "    new_order = [step for step in bar_data.index if step != 'confirm'] + ['confirm']\n",
    "    bar_data = bar_data.loc[new_order]\n",
    "\n",
    "# Create figure and axes with black background\n",
    "fig, ax = plt.subplots(figsize=(10, 6), facecolor='black')\n",
    "\n",
    "# Plot with custom colors: blue for control, green for test\n",
    "bar_data.plot(kind='bar', ax=ax, edgecolor='black', color=['white', 'lightseagreen'])\n",
    "\n",
    "# Styling\n",
    "ax.set_facecolor('black')\n",
    "ax.set_ylabel(\"Average Time (minutes)\", color='white')\n",
    "ax.set_title(\"Average Time Spent After Each Step (Test vs Control)\", color='white')\n",
    "ax.tick_params(colors='white')\n",
    "ax.xaxis.label.set_color('white')\n",
    "ax.yaxis.label.set_color('white')\n",
    "ax.grid(axis='y', linestyle='--', alpha=0.3, color='gray')\n",
    "ax.legend(title='Variation', facecolor='black', edgecolor='white', labelcolor='white')\n",
    "plt.xticks(rotation=45)\n",
    "\n",
    "plt.tight_layout()\n",
    "plt.show()"
   ]
  },
  {
   "cell_type": "code",
   "execution_count": 11,
   "id": "87f6746f",
   "metadata": {},
   "outputs": [],
   "source": [
    "enriched_df = merged.merge(\n",
    "    average_time_per_step,\n",
    "    how='left',\n",
    "    on=['variation', 'process_step']\n",
    ")\n",
    "enriched_df.to_csv('vanguard_with_avg_step_duration.csv', index=False, encoding='utf-8-sig', sep=';', lineterminator='\\n')"
   ]
  },
  {
   "cell_type": "code",
   "execution_count": 12,
   "id": "5dd0086c",
   "metadata": {},
   "outputs": [
    {
     "data": {
      "image/png": "[encoded data removed]",
      "text/plain": [
       "<Figure size 800x500 with 1 Axes>"
      ]
     },
     "metadata": {},
     "output_type": "display_data"
    }
   ],
   "source": [
    "\n",
    "avg_time_data = {\n",
    "    'process_step': ['start', 'step_1', 'step_2', 'step_3', 'confirm'],\n",
    "    'control': [2.99, 0.72, 0.66, 1.57, 2.16],\n",
    "    'test': [2.61, 0.64, 0.82, 1.63, 2.15]\n",
    "}\n",
    "df_time = pd.DataFrame(avg_time_data)\n",
    "\n",
    "# Figure with black background\n",
    "fig, ax = plt.subplots(figsize=(8, 5), facecolor='black')\n",
    "\n",
    "# Plot both series\n",
    "ax.plot(df_time['process_step'], df_time['control'], marker='o', label='Control', color='white')\n",
    "ax.plot(df_time['process_step'], df_time['test'], marker='o', label='Test', color='lightseagreen')\n",
    "\n",
    "# Styling\n",
    "ax.set_facecolor('black')\n",
    "ax.set_ylabel('Average Time (minutes)', color='white')\n",
    "ax.set_xlabel('Process Step', color='white')\n",
    "ax.set_title('Average Time per Step', color='white')\n",
    "ax.tick_params(colors='white')\n",
    "ax.grid(True, linestyle='--', alpha=0.3, color='gray')\n",
    "ax.legend(facecolor='black', edgecolor='white', labelcolor='white')\n",
    "\n",
    "plt.tight_layout()\n",
    "plt.show()"
   ]
  },
  {
   "cell_type": "markdown",
   "id": "ffbde0cc",
   "metadata": {},
   "source": [
    "It looks like users are spending the most time on the 'start' and 'confirmation' steps, which might suggest friction at the beginning (maybe too much info or distractions?), while the 'step_2' and 'step_3' stages fly by, likely due to simplicity or users rushing through.\n",
    "\n",
    "We should find out what is slowing people down, especially at the start."
   ]
  },
  {
   "cell_type": "markdown",
   "id": "d49faa91",
   "metadata": {},
   "source": [
    "* KPI/METRICS: Error Rates: "
   ]
  },
  {
   "cell_type": "code",
   "execution_count": 13,
   "id": "77558cf8",
   "metadata": {},
   "outputs": [
    {
     "name": "stdout",
     "output_type": "stream",
     "text": [
      "   process_step variation  nb_passages  error_rate\n",
      "0       confirm   control        17315    0.000000\n",
      "1       confirm      test        25571    0.000000\n",
      "2       confirm   unknown        17156    0.000000\n",
      "3         start   control        45320    0.576302\n",
      "4         start      test        55707    0.614662\n",
      "5         start   unknown        40221    0.599861\n",
      "6        step_1   control        29505    0.758516\n",
      "7        step_1      test        38619    0.716772\n",
      "8        step_1   unknown        27263    0.733595\n",
      "9        step_2   control        25742    0.825421\n",
      "10       step_2      test        30865    0.785194\n",
      "11       step_2   unknown        22566    0.806700\n",
      "12       step_3   control        22476    0.673029\n",
      "13       step_3      test        25733    0.709595\n",
      "14       step_3   unknown        19294    0.694672\n",
      "\n",
      "process_step confirm   start  step_1  step_2  step_3\n",
      "variation                                           \n",
      "control         0.0%  57.63%  75.85%  82.54%   67.3%\n",
      "test            0.0%  61.47%  71.68%  78.52%  70.96%\n"
     ]
    }
   ],
   "source": [
    "# we assign each process step a numeric order\n",
    "step_order_num = {\n",
    "    'start': 0,\n",
    "    'step_1': 1,\n",
    "    'step_2': 2,\n",
    "    'step_3': 3,\n",
    "    'confirm': 4\n",
    "}\n",
    "\n",
    "df = pd.read_csv('vanguard_merged.csv')\n",
    "\n",
    "\n",
    "df['step_order'] = df['process_step'].map(step_order_num) #Mapping textual process steps to numeric step order\n",
    "\n",
    "\n",
    "df['previous_step_order'] = df.groupby('visitor_id')['step_order'].shift(1) # For each visitor, we find the previous step visited\n",
    "\n",
    "\n",
    "df['step_diff'] = df['step_order'] - df['previous_step_order'] # the difference between current and previous step\n",
    "\n",
    "\n",
    "df['is_error'] = df['step_diff'] < 0 # error if the user went backward in the process\n",
    "\n",
    "\n",
    "# error rate by step AND variation\n",
    "error_rate_by_step = (\n",
    "    df.groupby(['process_step', 'variation'])['is_error']\n",
    "    .agg(['count', 'mean'])  # count = number of transitions; mean = error rate\n",
    "    .reset_index()\n",
    "    .rename(columns={'count': 'nb_passages', 'mean': 'error_rate'})\n",
    ")\n",
    "print(error_rate_by_step)\n",
    "\n",
    "\n",
    "# Pivot table: rows = variation (test/control), columns = step_order\n",
    "error_rate1 = (\n",
    "    error_rate_by_step\n",
    "    .query(\"variation in ['test', 'control']\")  # to display just test and control\n",
    "    .pivot(index='variation', columns='process_step', values='error_rate')\n",
    ")\n",
    "\n",
    "\n",
    "#percentage \n",
    "error_rate1 = error_rate1.map(lambda x: f\"{round(x * 100, 2)}%\")\n",
    "print(f'\\n{error_rate1}')\n",
    "\n"
   ]
  },
  {
   "cell_type": "code",
   "execution_count": 14,
   "id": "36b8eb1e",
   "metadata": {},
   "outputs": [],
   "source": [
    "# Merge df and error_rate_by_step on 'process_step' and 'variation'\n",
    "df_merged1 = pd.merge(df, error_rate_by_step, on=['process_step', 'variation'], how='left')"
   ]
  },
  {
   "cell_type": "code",
   "execution_count": 15,
   "id": "ff5fc97e",
   "metadata": {},
   "outputs": [],
   "source": [
    "\n",
    "df_merged1.to_csv('vanguard_with_error_rate.csv', index=False, encoding='utf-8-sig', sep=';', lineterminator='\\n')\n"
   ]
  },
  {
   "cell_type": "code",
   "execution_count": 16,
   "id": "6b9109ea",
   "metadata": {},
   "outputs": [
    {
     "data": {
      "image/png": "[encoded data removed]",
      "text/plain": [
       "<Figure size 1000x600 with 1 Axes>"
      ]
     },
     "metadata": {},
     "output_type": "display_data"
    }
   ],
   "source": [
    "# Convert percentage strings back to float for plotting\n",
    "error_rate_numeric = error_rate1.map(lambda x: float(x.strip('%')))\n",
    "\n",
    "# Reorder the columns to match the process flow\n",
    "ordered_steps = ['start', 'step_1', 'step_2', 'step_3', 'confirm']\n",
    "error_rate_numeric = error_rate_numeric[ordered_steps]\n",
    "\n",
    "# Create figure with black background\n",
    "fig, ax = plt.subplots(figsize=(10, 6), facecolor='black')\n",
    "\n",
    "# Define custom colors for each variation\n",
    "variation_colors = {'test': 'lightseagreen', 'control': 'white'}\n",
    "\n",
    "# Plot each variation with its assigned color\n",
    "for variation in error_rate_numeric.index:\n",
    "    color = variation_colors.get(variation, 'gray')  # Default to gray if variation not mapped\n",
    "    ax.plot(ordered_steps, error_rate_numeric.loc[variation],\n",
    "            marker='o', label=variation.capitalize(), color=color)\n",
    "\n",
    "# Styling\n",
    "ax.set_facecolor('black')\n",
    "ax.set_title(\"Error Rate by Process Step\", color='white')\n",
    "ax.set_xlabel(\"Process Step\", color='white')\n",
    "ax.set_ylabel(\"Error Rate (%)\", color='white')\n",
    "ax.tick_params(colors='white')\n",
    "ax.grid(True, linestyle='--', alpha=0.3, color='gray')\n",
    "ax.legend(title='Variation', facecolor='black', edgecolor='white', labelcolor='white')\n",
    "\n",
    "plt.tight_layout()\n",
    "plt.show()"
   ]
  },
  {
   "cell_type": "markdown",
   "id": "f3b39a34",
   "metadata": {},
   "source": [
    "Completion Rate\n",
    "Test (67.9%) > Control (60.1%)\n",
    "That’s a noteworthy lift—suggests the new design is helping more users reach the finish line. \n",
    "\n",
    "Time Spent per Step (Test vs. Control)\n",
    "\n",
    "Start step: Users in the test group spend ~13% less time (2.61 vs. 2.99 mins). The new design likely streamlines the entry experience.\n",
    "\n",
    "Step 1 (0.64 vs 0.72)\n",
    "Step 2 (0.82 vs 0.66)\n",
    "Step 3 (1.63 vs 1.57)\n",
    "\n",
    "Confirm step: Users spend one second less (2.15 vs. 2.16 mins). practically the same.\n",
    "\n",
    "So, quicker to get started, slightly longer decision time later on but overall a quicker process:\n",
    "\n",
    "Test 7.85 mins.\n",
    "Control 8.10 mins.\n",
    "\n",
    "\n",
    "\n",
    "Error Rate\n",
    "\n",
    "Surprisingly, the test group has higher error rates at ‘start’ (61.47% vs. 57.63%) and step_1 (71.68% vs. 75.85%)\n",
    "\n",
    "\n",
    "process_step confirm   start  step_1  step_2  step_3\n",
    "variation                                           \n",
    "control         0.0%  57.63%  75.85%  82.54%   67.3%\n",
    "test            0.0%  61.47%  71.68%  78.52%  70.96%\n",
    "\n",
    "Conclusion:\n",
    "\n",
    "The new design appears to:\n",
    "\n",
    "- Increase completions (that’s huge)\n",
    "\n",
    "- Speed up the entry experience\n",
    "\n",
    "- Requires UX fine-tuning to minimise backtracking.\n",
    "\n",
    "More users are finishing faster but there are areas for improvement.\n"
   ]
  },
  {
   "cell_type": "code",
   "execution_count": 17,
   "id": "5d145aae",
   "metadata": {},
   "outputs": [
    {
     "data": {
      "text/plain": [
       "variation\n",
       "control    25884\n",
       "test       28698\n",
       "Name: visitor_id, dtype: int64"
      ]
     },
     "execution_count": 17,
     "metadata": {},
     "output_type": "execute_result"
    }
   ],
   "source": [
    "starters"
   ]
  },
  {
   "cell_type": "code",
   "execution_count": 18,
   "id": "d0d6396f",
   "metadata": {},
   "outputs": [
    {
     "data": {
      "text/plain": [
       "variation\n",
       "control    15548\n",
       "test       19481\n",
       "Name: visitor_id, dtype: int64"
      ]
     },
     "execution_count": 18,
     "metadata": {},
     "output_type": "execute_result"
    }
   ],
   "source": [
    "completions"
   ]
  },
  {
   "cell_type": "markdown",
   "id": "461b028f",
   "metadata": {},
   "source": [
    "The information ( starters and competions ) above will be used in the hypothesis testing step"
   ]
  }
 ],
 "metadata": {
  "kernelspec": {
   "display_name": "Python 3",
   "language": "python",
   "name": "python3"
  },
  "language_info": {
   "codemirror_mode": {
    "name": "ipython",
    "version": 3
   },
   "file_extension": ".py",
   "mimetype": "text/x-python",
   "name": "python",
   "nbconvert_exporter": "python",
   "pygments_lexer": "ipython3",
   "version": "3.13.2"
  }
 },
 "nbformat": 4,
 "nbformat_minor": 5
}
